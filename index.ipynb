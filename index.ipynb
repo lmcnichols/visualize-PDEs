{
 "cells": [
  {
   "cell_type": "markdown",
   "metadata": {},
   "source": [
    "# PDEs Baby"
   ]
  },
  {
   "cell_type": "markdown",
   "metadata": {},
   "source": [
    "As I was making this helper tool I realized that there is a truely amazing vid on partial diff eqs."
   ]
  },
  {
   "cell_type": "markdown",
   "metadata": {},
   "source": [
    "https://www.youtube.com/watch?v=ly4S0oi3Yz8"
   ]
  },
  {
   "cell_type": "markdown",
   "metadata": {},
   "source": [
    "#### FIRST POINT: everything is more annoying in pde land"
   ]
  },
  {
   "cell_type": "markdown",
   "metadata": {},
   "source": [
    "I can remember the good ole days where they would give us something like this."
   ]
  },
  {
   "cell_type": "markdown",
   "metadata": {},
   "source": [
    "$$\n",
    "y = \\frac{dy}{dt}\n",
    "$$"
   ]
  },
  {
   "cell_type": "markdown",
   "metadata": {},
   "source": [
    "this is sweet because there is only 1 function which is proportional to it's slope always. \n",
    "\n",
    "(Just watch first 5 secs of this vid https://www.youtube.com/watch?v=m2MIpDrF7Es)"
   ]
  },
  {
   "cell_type": "markdown",
   "metadata": {},
   "source": [
    "We know that \n",
    "$$\n",
    "y = e^t + c\n",
    "$$"
   ]
  },
  {
   "cell_type": "markdown",
   "metadata": {},
   "source": [
    "I'm not even that big of a fan that there is a plus c there but that is cause of this"
   ]
  },
  {
   "cell_type": "code",
   "execution_count": 1,
   "metadata": {},
   "outputs": [
    {
     "ename": "NameError",
     "evalue": "name 'exp' is not defined",
     "output_type": "error",
     "traceback": [
      "\u001b[1;31m---------------------------------------------------------------------------\u001b[0m",
      "\u001b[1;31mNameError\u001b[0m                                 Traceback (most recent call last)",
      "\u001b[1;32m<ipython-input-1-afb38588cece>\u001b[0m in \u001b[0;36m<module>\u001b[1;34m\u001b[0m\n\u001b[0;32m      6\u001b[0m \u001b[1;32mdef\u001b[0m \u001b[0mprintmd\u001b[0m\u001b[1;33m(\u001b[0m\u001b[0mstring\u001b[0m\u001b[1;33m)\u001b[0m\u001b[1;33m:\u001b[0m\u001b[1;33m\u001b[0m\u001b[1;33m\u001b[0m\u001b[0m\n\u001b[0;32m      7\u001b[0m     \u001b[0mdisplay\u001b[0m\u001b[1;33m(\u001b[0m\u001b[0mMarkdown\u001b[0m\u001b[1;33m(\u001b[0m\u001b[0mstring\u001b[0m\u001b[1;33m)\u001b[0m\u001b[1;33m)\u001b[0m\u001b[1;33m\u001b[0m\u001b[1;33m\u001b[0m\u001b[0m\n\u001b[1;32m----> 8\u001b[1;33m \u001b[0mipw\u001b[0m\u001b[1;33m.\u001b[0m\u001b[0minteract\u001b[0m\u001b[1;33m(\u001b[0m\u001b[0mexp\u001b[0m\u001b[1;33m,\u001b[0m \u001b[0mc\u001b[0m\u001b[1;33m=\u001b[0m\u001b[1;36m10\u001b[0m\u001b[1;33m)\u001b[0m\u001b[1;33m\u001b[0m\u001b[1;33m\u001b[0m\u001b[0m\n\u001b[0m\u001b[0;32m      9\u001b[0m \u001b[1;33m\u001b[0m\u001b[0m\n\u001b[0;32m     10\u001b[0m \u001b[1;32mdef\u001b[0m \u001b[0mexp\u001b[0m\u001b[1;33m(\u001b[0m\u001b[0mc\u001b[0m\u001b[1;33m)\u001b[0m\u001b[1;33m:\u001b[0m\u001b[1;33m\u001b[0m\u001b[1;33m\u001b[0m\u001b[0m\n",
      "\u001b[1;31mNameError\u001b[0m: name 'exp' is not defined"
     ]
    }
   ],
   "source": [
    "import numpy as np\n",
    "import matplotlib.pyplot as plt\n",
    "import ipywidgets as ipw\n",
    "\n",
    "from IPython.display import Markdown, display\n",
    "def printmd(string):\n",
    "    display(Markdown(string))\n",
    "ipw.interact(exp, c=10)\n",
    "    \n",
    "def exp(c):\n",
    "    t = np.linspace(0,2)\n",
    "    fig, ax = plt.subplots(figsize=(8,3.5))\n",
    "    ax.plot(x, np.exp(x) + c)\n",
    "    ax.set_xlabel('t')\n",
    "    ax.set_ylabel('y')\n",
    "    plt.show()\n",
    "    printmd(\"#### $ \\\\frac{d}{dt} ( e^t + \" + str(c) + \") = e^t = y $ is still true.\")\n",
    "\n"
   ]
  },
  {
   "cell_type": "markdown",
   "metadata": {},
   "source": [
    "### Okay so this really pisses me off."
   ]
  },
  {
   "cell_type": "code",
   "execution_count": 3,
   "metadata": {},
   "outputs": [
    {
     "data": {
      "application/vnd.jupyter.widget-view+json": {
       "model_id": "673519b010d34b7ea1851ed51a7ef054",
       "version_major": 2,
       "version_minor": 0
      },
      "text/plain": [
       "interactive(children=(IntSlider(value=-90, description='angle', max=90, min=-270), FloatSlider(value=0.0, desc…"
      ]
     },
     "metadata": {},
     "output_type": "display_data"
    }
   ],
   "source": [
    "\n",
    "t = np.linspace(0, 2, 100)\n",
    "x = np.linspace(0, 2, 100)\n",
    "T, X = np.meshgrid(t, x)\n",
    "\n",
    "def f(t, x, c):\n",
    "    return np.exp(t) + c*x\n",
    "\n",
    "@ipw.interact(angle=-90, slope=ipw.FloatSlider(min=-0, max=10, value=0))\n",
    "def exp3d(angle, slope):\n",
    "    fig = plt.figure(figsize=(12,12))\n",
    "    ax = plt.axes(projection='3d')\n",
    "    Y = f(T, X, slope)\n",
    "    ax.plot_surface(T, X, Y, rstride=1, cstride=1)\n",
    "    ax.view_init(5, angle)\n",
    "    plt.yticks([])\n",
    "    plt.show()\n",
    "    printmd(\"#### $ \\\\frac{ \\partial}{ \\partial{t}} (e^t + \" + str(slope) + \"x) = e^t = y $ is still true. WTF\")"
   ]
  },
  {
   "cell_type": "markdown",
   "metadata": {},
   "source": [
    "And so now when I integrate something you expect me to do this??\n",
    "\n",
    "$$\n",
    "\\int e^t dt = e^t + x(t)\n",
    "$$\n",
    "\n",
    "I just recently started putting the + c on a semi-regular basis. Do you really expect me to do this?"
   ]
  },
  {
   "cell_type": "markdown",
   "metadata": {},
   "source": [
    "#### PDE initial value probs"
   ]
  },
  {
   "cell_type": "markdown",
   "metadata": {},
   "source": [
    "So now to solve an intial value problem, instead of needing to know\n",
    "\n",
    "$$\n",
    "y(0) = 4\n",
    "$$\n",
    "\n",
    "you need to be told something like \n",
    "$$\n",
    "y(0, x) = 4x\n",
    "$$"
   ]
  },
  {
   "cell_type": "markdown",
   "metadata": {},
   "source": [
    "and I'm not going to pretend that this is okay."
   ]
  }
 ],
 "metadata": {
  "kernelspec": {
   "display_name": "Python 3",
   "language": "python",
   "name": "python3"
  },
  "language_info": {
   "codemirror_mode": {
    "name": "ipython",
    "version": 3
   },
   "file_extension": ".py",
   "mimetype": "text/x-python",
   "name": "python",
   "nbconvert_exporter": "python",
   "pygments_lexer": "ipython3",
   "version": "3.7.7"
  }
 },
 "nbformat": 4,
 "nbformat_minor": 4
}
